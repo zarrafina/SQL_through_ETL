{
 "cells": [
  {
   "cell_type": "markdown",
   "metadata": {},
   "source": [
    "# Подключаемся к ClickHouse через pandahouse"
   ]
  },
  {
   "cell_type": "code",
   "execution_count": 4,
   "metadata": {},
   "outputs": [],
   "source": [
    "import pandahouse as ph"
   ]
  },
  {
   "cell_type": "code",
   "execution_count": 5,
   "metadata": {},
   "outputs": [],
   "source": [
    "connection_default = {'host': 'https://clickhouse.lab.karpov.courses',\n",
    "                      'database':'default',\n",
    "                      'user':'student', \n",
    "                      'password':'dpo_python_2020'\n",
    "                     }"
   ]
  },
  {
   "cell_type": "markdown",
   "metadata": {},
   "source": [
    "# 2.1 Очень усердные ученики"
   ]
  },
  {
   "cell_type": "code",
   "execution_count": 11,
   "metadata": {},
   "outputs": [
    {
     "data": {
      "text/html": [
       "<div>\n",
       "<style scoped>\n",
       "    .dataframe tbody tr th:only-of-type {\n",
       "        vertical-align: middle;\n",
       "    }\n",
       "\n",
       "    .dataframe tbody tr th {\n",
       "        vertical-align: top;\n",
       "    }\n",
       "\n",
       "    .dataframe thead th {\n",
       "        text-align: right;\n",
       "    }\n",
       "</style>\n",
       "<table border=\"1\" class=\"dataframe\">\n",
       "  <thead>\n",
       "    <tr style=\"text-align: right;\">\n",
       "      <th></th>\n",
       "      <th>student_amount</th>\n",
       "    </tr>\n",
       "  </thead>\n",
       "  <tbody>\n",
       "    <tr>\n",
       "      <th>0</th>\n",
       "      <td>136</td>\n",
       "    </tr>\n",
       "  </tbody>\n",
       "</table>\n",
       "</div>"
      ],
      "text/plain": [
       "   student_amount\n",
       "0             136"
      ]
     },
     "execution_count": 11,
     "metadata": {},
     "output_type": "execute_result"
    }
   ],
   "source": [
    "q = '''\n",
    "    SELECT COUNT(st_id) AS student_amount\n",
    "    FROM\n",
    "    (\n",
    "    SELECT st_id, SUM(correct) AS peases\n",
    "    FROM default.peas\n",
    "    GROUP BY st_id\n",
    "    )\n",
    "    WHERE peases >= 20\n",
    "    '''\n",
    "\n",
    "q_test = ph.read_clickhouse(query=q, connection=connection_default)\n",
    "q_test"
   ]
  },
  {
   "cell_type": "markdown",
   "metadata": {},
   "source": [
    "# 2.2 Оптимизация воронки"
   ]
  },
  {
   "cell_type": "code",
   "execution_count": 12,
   "metadata": {},
   "outputs": [
    {
     "data": {
      "text/html": [
       "<div>\n",
       "<style scoped>\n",
       "    .dataframe tbody tr th:only-of-type {\n",
       "        vertical-align: middle;\n",
       "    }\n",
       "\n",
       "    .dataframe tbody tr th {\n",
       "        vertical-align: top;\n",
       "    }\n",
       "\n",
       "    .dataframe thead th {\n",
       "        text-align: right;\n",
       "    }\n",
       "</style>\n",
       "<table border=\"1\" class=\"dataframe\">\n",
       "  <thead>\n",
       "    <tr style=\"text-align: right;\">\n",
       "      <th></th>\n",
       "      <th>a.test_grp</th>\n",
       "      <th>ARPU</th>\n",
       "      <th>ARPAU</th>\n",
       "      <th>purchase_CR</th>\n",
       "      <th>active_CR</th>\n",
       "      <th>math_CR</th>\n",
       "    </tr>\n",
       "  </thead>\n",
       "  <tbody>\n",
       "    <tr>\n",
       "      <th>0</th>\n",
       "      <td>control</td>\n",
       "      <td>5306.51</td>\n",
       "      <td>8765.82</td>\n",
       "      <td>6.90</td>\n",
       "      <td>11.39</td>\n",
       "      <td>16.33</td>\n",
       "    </tr>\n",
       "    <tr>\n",
       "      <th>1</th>\n",
       "      <td>pilot</td>\n",
       "      <td>13913.93</td>\n",
       "      <td>24963.24</td>\n",
       "      <td>17.62</td>\n",
       "      <td>31.62</td>\n",
       "      <td>38.10</td>\n",
       "    </tr>\n",
       "  </tbody>\n",
       "</table>\n",
       "</div>"
      ],
      "text/plain": [
       "  a.test_grp      ARPU     ARPAU  purchase_CR  active_CR  math_CR\n",
       "0    control   5306.51   8765.82         6.90      11.39    16.33\n",
       "1      pilot  13913.93  24963.24        17.62      31.62    38.10"
      ]
     },
     "execution_count": 12,
     "metadata": {},
     "output_type": "execute_result"
    }
   ],
   "source": [
    "q_2 = '''\n",
    "    SELECT a.test_grp, \n",
    "    ROUND(d.all_money / a.all_users, 2) AS ARPU, \n",
    "    ROUND(d.all_money / b.active_users, 2) AS ARPAU, \n",
    "    ROUND(d.paid_users * 100 / a.all_users, 2) AS purchase_CR,\n",
    "    ROUND(d.paid_users * 100 / b.active_users, 2) AS active_CR,\n",
    "    ROUND(e.paid_math_users * 100 / c.active_math_users, 2) AS math_CR\n",
    "    FROM\n",
    "        (\n",
    "        SELECT a.test_grp, a.all_users, b.active_users, c.active_math_users, d.paid_users, d.all_money, e.paid_math_users\n",
    "        FROM\n",
    "            (\n",
    "            SELECT test_grp, COUNT(st_id) as all_users \n",
    "            FROM\n",
    "                (\n",
    "                SELECT b.test_grp, a.st_id, a.subject, SUM(a.correct) as peases \n",
    "                FROM default.peas AS a\n",
    "                LEFT JOIN default.studs AS b\n",
    "                ON a.st_id = b.st_id\n",
    "                GROUP BY a.st_id, a.subject, b.test_grp\n",
    "                )\n",
    "            GROUP BY test_grp\n",
    "            ) AS a\n",
    "            JOIN\n",
    "            (\n",
    "            SELECT test_grp, COUNT(st_id) as active_users \n",
    "            FROM\n",
    "                (\n",
    "                SELECT b.test_grp, a.st_id, a.subject, SUM(a.correct) as peases \n",
    "                FROM default.peas AS a\n",
    "                LEFT JOIN default.studs AS b\n",
    "                ON a.st_id = b.st_id\n",
    "                GROUP BY a.st_id, a.subject, b.test_grp\n",
    "                )\n",
    "            WHERE peases > 10\n",
    "            GROUP BY test_grp\n",
    "            ) AS b \n",
    "            ON a.test_grp = b.test_grp\n",
    "            JOIN\n",
    "            (\n",
    "            SELECT test_grp, COUNT(st_id) as active_math_users\n",
    "            FROM\n",
    "                (\n",
    "                SELECT b.test_grp, a.st_id, a.subject, SUM(a.correct) as peases\n",
    "                FROM default.peas AS a\n",
    "                LEFT JOIN default.studs AS b\n",
    "                ON a.st_id = b.st_id\n",
    "                GROUP BY a.st_id, a.subject, b.test_grp\n",
    "                )\n",
    "            WHERE subject = 'Math' AND peases > 2\n",
    "            GROUP BY test_grp\n",
    "            ) AS c\n",
    "            ON b.test_grp = c.test_grp\n",
    "            JOIN\n",
    "            (\n",
    "            SELECT b.test_grp, COUNT(a.st_id) AS paid_users, SUM(a.money) AS all_money\n",
    "            FROM default.final_project_check AS a                                      \n",
    "            LEFT JOIN default.studs AS b                                               \n",
    "            ON a.st_id = b.st_id\n",
    "            GROUP BY b.test_grp\n",
    "            ) AS d\n",
    "            ON c.test_grp = d.test_grp\n",
    "            JOIN\n",
    "            (\n",
    "            SELECT b.test_grp, COUNT(a.st_id) AS paid_math_users\n",
    "            FROM default.final_project_check AS a\n",
    "            LEFT JOIN default.studs AS b\n",
    "            ON a.st_id = b.st_id\n",
    "            WHERE subject = 'Math'\n",
    "            GROUP BY b.test_grp\n",
    "            ) AS e\n",
    "            ON d.test_grp = e.test_grp\n",
    "        )\n",
    "    '''\n",
    "\n",
    "q_2_test = ph.read_clickhouse(query=q_2, connection=connection_default)\n",
    "q_2_test"
   ]
  },
  {
   "cell_type": "code",
   "execution_count": null,
   "metadata": {},
   "outputs": [],
   "source": []
  }
 ],
 "metadata": {
  "kernelspec": {
   "display_name": "Python 3",
   "language": "python",
   "name": "python3"
  },
  "language_info": {
   "codemirror_mode": {
    "name": "ipython",
    "version": 3
   },
   "file_extension": ".py",
   "mimetype": "text/x-python",
   "name": "python",
   "nbconvert_exporter": "python",
   "pygments_lexer": "ipython3",
   "version": "3.7.3"
  }
 },
 "nbformat": 4,
 "nbformat_minor": 4
}
